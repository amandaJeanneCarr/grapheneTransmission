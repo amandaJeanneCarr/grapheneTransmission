{
 "cells": [
  {
   "cell_type": "code",
   "execution_count": 39,
   "metadata": {},
   "outputs": [
    {
     "data": {
      "image/png": "[encoded data removed]",
      "text/plain": [
       "<Figure size 432x288 with 1 Axes>"
      ]
     },
     "metadata": {
      "needs_background": "light"
     },
     "output_type": "display_data"
    },
    {
     "name": "stdout",
     "output_type": "stream",
     "text": [
      "[0.06028223 0.13104567 0.09128483 0.17160231 0.09090431 0.15545486\n",
      " 1.        ]\n",
      "alpha = 217.26775163434152\n",
      "c = 0.05042104964617416\n"
     ]
    }
   ],
   "source": [
    "%matplotlib inline\n",
    "\n",
    "# Code to calculate absorption coefficient and reflection values for polymer films using control polymer film thickness\n",
    "# and transmission measurements\n",
    "\n",
    "#Import necessary packages\n",
    "import numpy as np\n",
    "import pandas as pd\n",
    "import matplotlib.pyplot as plt\n",
    "import seaborn as sb\n",
    "from scipy.optimize import curve_fit\n",
    "\n",
    "# Load fixed control data, meaning non-sample data has been removed. Enter measured thicknesses in mm, convert to cm\n",
    "path = 'C:\\\\Users\\\\acarr.BNL\\\\Documents\\\\Data\\\\Optical Transmission\\\\Polymer_Backgrounds\\\\'\n",
    "samp = 'p_PE_hexane_'\n",
    "transmission = []\n",
    "thickness = np.asarray([0.128, 0.147, 0.145, 0.145, 0.105, 0.132, 0])/10\n",
    "\n",
    "# Loop over all control data. Load transmisison data, collect average of all data, and place into transmission array\n",
    "for n in range(1,7):\n",
    "    name = samp + str(n)\n",
    "    polymer_bkg = pd.read_csv(path + name + '_2slides_fixed.csv')\n",
    "    transmission.append(polymer_bkg.mean().mean())\n",
    "transmission.append(1)\n",
    "\n",
    "# Initial params for fitting process\n",
    "transmission = np.asarray(transmission)\n",
    "init_alpha = 0.1\n",
    "init_c = 0.9\n",
    "init_params = [init_alpha, init_c]\n",
    "\n",
    "# Define transmission function to use during fitting\n",
    "def trans_curve(x, alpha, c):\n",
    "    # where x is film thickness [cm], y is optical transmission, aplha is absorption coefficient [1/cm], and c is both\n",
    "    # back and front reflection plus other constants\n",
    "    # alpha = 103.85\n",
    "    return(c + np.exp(-alpha*x))\n",
    "\n",
    "# Fit measured transmission and thickness values to curve to obtain absorption coefficient and reflection for each polymer\n",
    "# Save fitted params to be used as background data for experimental measurements\n",
    "params, cov = curve_fit(trans_curve, thickness, transmission, p0=init_params)\n",
    "file = path + samp + 'fit_params.csv'\n",
    "np.savetxt(file, params, delimiter = ',')\n",
    "plt.scatter(thickness, transmission)\n",
    "plt.plot(np.linspace(0, 0.1, 100000), trans_curve(np.linspace(0, 0.1, 100000), params[0], params[1]))\n",
    "plt.ylabel('Transmission')\n",
    "plt.xlabel('Thickness (cm)')\n",
    "plt.show()\n",
    "\n",
    "print(transmission)\n",
    "print('alpha = ' + str(params[0]))\n",
    "print('c = ' + str(params[1]))"
   ]
  },
  {
   "cell_type": "code",
   "execution_count": null,
   "metadata": {},
   "outputs": [],
   "source": []
  }
 ],
 "metadata": {
  "kernelspec": {
   "display_name": "Python 3",
   "language": "python",
   "name": "python3"
  },
  "language_info": {
   "codemirror_mode": {
    "name": "ipython",
    "version": 3
   },
   "file_extension": ".py",
   "mimetype": "text/x-python",
   "name": "python",
   "nbconvert_exporter": "python",
   "pygments_lexer": "ipython3",
   "version": "3.7.6"
  }
 },
 "nbformat": 4,
 "nbformat_minor": 2
}
