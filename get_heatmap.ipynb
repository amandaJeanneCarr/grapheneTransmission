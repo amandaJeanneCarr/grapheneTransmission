{
 "cells": [
  {
   "cell_type": "code",
   "execution_count": null,
   "metadata": {
    "collapsed": true
   },
   "outputs": [],
   "source": [
    "def get_heatmap(data, pixel, value):\n",
    "    # Scale absolute x and y positions to realtive positions from upper left corner of sample \n",
    "    data['X_Position'] = abs((data['X_Position'] - data['X_Position'][0]))\n",
    "    data['Y_Position'] = abs((data['Y_Position'] - data['Y_Position'][0]))\n",
    "\n",
    "    # Generate row and column indices using pixel size and X and Y positions. Convert to integers\n",
    "    data['X_Column'] = round((1/pixel)*data['X_Position'] + 1)\n",
    "    data = data.astype({\"X_Column\": int})\n",
    "    data['Y_Row'] = round((1/pixel)*data['Y_Position'] + 1)\n",
    "    data = data.astype({\"Y_Row\": int})\n",
    "    \n",
    "    # Array data into an array using X and Y positions\n",
    "    data_array = pd.pivot_table(data, index = \"Y_Row\", columns = \"X_Column\", values = value)\n",
    "\n",
    "    return(data_array)"
   ]
  },
  {
   "cell_type": "code",
   "execution_count": null,
   "metadata": {},
   "outputs": [],
   "source": []
  }
 ],
 "metadata": {
  "kernelspec": {
   "display_name": "Python 3",
   "language": "python",
   "name": "python3"
  },
  "language_info": {
   "codemirror_mode": {
    "name": "ipython",
    "version": 3
   },
   "file_extension": ".py",
   "mimetype": "text/x-python",
   "name": "python",
   "nbconvert_exporter": "python",
   "pygments_lexer": "ipython3",
   "version": "3.7.6"
  }
 },
 "nbformat": 4,
 "nbformat_minor": 2
}
